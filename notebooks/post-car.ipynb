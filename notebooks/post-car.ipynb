{
 "cells": [
  {
   "cell_type": "markdown",
   "metadata": {},
   "source": [
    "# Run the car endpoint\n",
    "Create the payload"
   ]
  },
  {
   "cell_type": "code",
   "execution_count": 12,
   "metadata": {},
   "outputs": [
    {
     "name": "stdout",
     "output_type": "stream",
     "text": [
      "{\n",
      "  \"Wheels\": 7,\n",
      "  \"Name\": \"Roger\",\n",
      "  \"Make\": \"Honda\"\n",
      "}\n"
     ]
    }
   ],
   "source": [
    "$car = @{ Name=\"Roger\"; Make=\"Honda\"; Wheels=7 } | ConvertTo-Json; $car"
   ]
  },
  {
   "cell_type": "code",
   "execution_count": 13,
   "metadata": {},
   "outputs": [
    {
     "name": "stdout",
     "output_type": "stream",
     "text": [
      "\n",
      "name  make  wheels\n",
      "----  ----  ------\n",
      "Roger Honda      7\n",
      "\n"
     ]
    }
   ],
   "source": [
    "Invoke-RestMethod -Uri 'http://bs-service:5000/car' -Method Post -Body $car "
   ]
  },
  {
   "cell_type": "code",
   "execution_count": 15,
   "metadata": {},
   "outputs": [
    {
     "name": "stdout",
     "output_type": "stream",
     "text": [
      "{\n",
      "    \"TableNames\": [\n",
      "        \"EngagementEventsTable\",\n",
      "        \"MysfitsTable\"\n",
      "    ]\n",
      "}\n"
     ]
    }
   ],
   "source": [
    "$ENDPOINT='http://ddb-local:8000'\n",
    "aws dynamodb list-tables --no-cli-pager --endpoint-url $ENDPOINT"
   ]
  },
  {
   "cell_type": "code",
   "execution_count": 16,
   "metadata": {},
   "outputs": [
    {
     "name": "stdout",
     "output_type": "stream",
     "text": [
      "{\n",
      "    \"Table\": {\n",
      "        \"AttributeDefinitions\": [\n",
      "            {\n",
      "                \"AttributeName\": \"MysfitId\",\n",
      "                \"AttributeType\": \"S\"\n",
      "            },\n",
      "            {\n",
      "                \"AttributeName\": \"GoodEvil\",\n",
      "                \"AttributeType\": \"S\"\n",
      "            },\n",
      "            {\n",
      "                \"AttributeName\": \"LawChaos\",\n",
      "                \"AttributeType\": \"S\"\n",
      "            }\n",
      "        ],\n",
      "        \"TableName\": \"MysfitsTable\",\n",
      "        \"KeySchema\": [\n",
      "            {\n",
      "                \"AttributeName\": \"MysfitId\",\n",
      "                \"KeyType\": \"HASH\"\n",
      "            }\n",
      "        ],\n",
      "        \"TableStatus\": \"ACTIVE\",\n",
      "        \"CreationDateTime\": \"2020-11-14T23:16:43.258000+00:00\",\n",
      "        \"ProvisionedThroughput\": {\n",
      "            \"LastIncreaseDateTime\": \"1970-01-01T00:00:00+00:00\",\n",
      "            \"LastDecreaseDateTime\": \"1970-01-01T00:00:00+00:00\",\n",
      "            \"NumberOfDecreasesToday\": 0,\n",
      "            \"ReadCapacityUnits\": 5,\n",
      "            \"WriteCapacityUnits\": 5\n",
      "        },\n",
      "        \"TableSizeBytes\": 9068,\n",
      "        \"ItemCount\": 12,\n",
      "        \"TableArn\": \"arn:aws:dynamodb:ddblocal:000000000000:table/MysfitsTable\",\n",
      "        \"GlobalSecondaryIndexes\": [\n",
      "            {\n",
      "                \"IndexName\": \"LawChaosIndex\",\n",
      "                \"KeySchema\": [\n",
      "                    {\n",
      "                        \"AttributeName\": \"LawChaos\",\n",
      "                        \"KeyType\": \"HASH\"\n",
      "                    },\n",
      "                    {\n",
      "                        \"AttributeName\": \"MysfitId\",\n",
      "                        \"KeyType\": \"RANGE\"\n",
      "                    }\n",
      "                ],\n",
      "                \"Projection\": {\n",
      "                    \"ProjectionType\": \"ALL\"\n",
      "                },\n",
      "                \"IndexStatus\": \"ACTIVE\",\n",
      "                \"ProvisionedThroughput\": {\n",
      "                    \"ReadCapacityUnits\": 5,\n",
      "                    \"WriteCapacityUnits\": 5\n",
      "                },\n",
      "                \"IndexSizeBytes\": 9068,\n",
      "                \"ItemCount\": 12,\n",
      "                \"IndexArn\": \"arn:aws:dynamodb:ddblocal:000000000000:table/MysfitsTable/index/LawChaosIndex\"\n",
      "            },\n",
      "            {\n",
      "                \"IndexName\": \"GoodEvilIndex\",\n",
      "                \"KeySchema\": [\n",
      "                    {\n",
      "                        \"AttributeName\": \"GoodEvil\",\n",
      "                        \"KeyType\": \"HASH\"\n",
      "                    },\n",
      "                    {\n",
      "                        \"AttributeName\": \"MysfitId\",\n",
      "                        \"KeyType\": \"RANGE\"\n",
      "                    }\n",
      "                ],\n",
      "                \"Projection\": {\n",
      "                    \"ProjectionType\": \"ALL\"\n",
      "                },\n",
      "                \"IndexStatus\": \"ACTIVE\",\n",
      "                \"ProvisionedThroughput\": {\n",
      "                    \"ReadCapacityUnits\": 5,\n",
      "                    \"WriteCapacityUnits\": 5\n",
      "                },\n",
      "                \"IndexSizeBytes\": 9068,\n",
      "                \"ItemCount\": 12,\n",
      "                \"IndexArn\": \"arn:aws:dynamodb:ddblocal:000000000000:table/MysfitsTable/index/GoodEvilIndex\"\n",
      "            }\n",
      "        ]\n",
      "    }\n",
      "}\n"
     ]
    }
   ],
   "source": [
    "aws dynamodb describe-table --table-name MysfitsTable --endpoint-url $ENDPOINT"
   ]
  }
 ],
 "metadata": {
  "kernelspec": {
   "display_name": ".NET (PowerShell)",
   "language": "PowerShell",
   "name": ".net-powershell"
  },
  "language_info": {
   "file_extension": ".ps1",
   "mimetype": "text/x-powershell",
   "name": "PowerShell",
   "pygments_lexer": "powershell",
   "version": "7.0"
  }
 },
 "nbformat": 4,
 "nbformat_minor": 4
}
