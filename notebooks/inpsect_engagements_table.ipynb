{
 "cells": [
  {
   "cell_type": "code",
   "execution_count": 1,
   "metadata": {},
   "outputs": [
    {
     "output_type": "display_data",
     "data": {
      "text/html": "\r\n<div>\r\n    <div id='dotnet-interactive-this-cell-5125.9d63d67218e346518757dbe3bc6e1742' style='display: none'>\r\n        The below script needs to be able to find the current output cell; this is an easy method to get it.\r\n    </div>\r\n    <script type='text/javascript'>\r\n// ensure `require` is available globally\r\nif (typeof require !== typeof Function || typeof require.config !== typeof Function) {\r\n    let require_script = document.createElement('script');\r\n    require_script.setAttribute('src', 'https://cdnjs.cloudflare.com/ajax/libs/require.js/2.3.6/require.min.js');\r\n    require_script.setAttribute('type', 'text/javascript');\r\n    require_script.onload = function () {\r\n        loadDotnetInteractiveApi();\r\n    };\r\n\r\n    document.getElementsByTagName('head')[0].appendChild(require_script);\r\n}\r\nelse {\r\n    loadDotnetInteractiveApi();\r\n}\r\n\r\nasync function probeAddresses(probingAddresses) {\r\n    function timeout(ms, promise) {\r\n        return new Promise(function (resolve, reject) {\r\n            setTimeout(function () {\r\n                reject(new Error('timeout'))\r\n            }, ms)\r\n            promise.then(resolve, reject)\r\n        })\r\n    }\r\n\r\n    if (Array.isArray(probingAddresses)) {\r\n        for (let i = 0; i < probingAddresses.length; i++) {\r\n\r\n            let rootUrl = probingAddresses[i];\r\n\r\n            if (!rootUrl.endsWith('/')) {\r\n                rootUrl = `${rootUrl}/`;\r\n            }\r\n\r\n            try {\r\n                let response = await timeout(1000, fetch(`${rootUrl}discovery`, {\r\n                    method: 'POST',\r\n                    cache: 'no-cache',\r\n                    mode: 'cors',\r\n                    timeout: 1000,\r\n                    headers: {\r\n                        'Content-Type': 'text/plain'\r\n                    },\r\n                    body: probingAddresses[i]\r\n                }));\r\n\r\n                if (response.status == 200) {\r\n                    return rootUrl;\r\n                }\r\n            }\r\n            catch (e) { }\r\n        }\r\n    }\r\n}\r\n\r\nfunction loadDotnetInteractiveApi() {\r\n    probeAddresses([\"http://172.17.0.5:1029/\", \"http://127.0.0.1:1029/\"])\r\n        .then((root) => {\r\n            // use probing to find host url and api resources\r\n            // load interactive helpers and language services\r\n            let dotnet_require = require.config({\r\n                context: '5125.9d63d67218e346518757dbe3bc6e1742',\r\n                paths: {\r\n                    'dotnet-interactive': `${root}resources`\r\n                }\r\n            }) || require;\r\n            if (!window.dotnet_require) {\r\n                window.dotnet_require = dotnet_require;\r\n            }\r\n        \r\n            dotnet_require([\r\n                    'dotnet-interactive/dotnet-interactive'\r\n                ],\r\n                function (dotnet) {\r\n                    dotnet.init(window);\r\n                },\r\n                function (error) {\r\n                    console.log(error);\r\n                }\r\n            );\r\n        })\r\n        .catch(error => {console.log(error);});\r\n    }\r\n    </script>\r\n</div>"
     },
     "metadata": {}
    },
    {
     "output_type": "stream",
     "name": "stdout",
     "text": [
      "{\n",
      "    \"TableNames\": [\n",
      "        \"EngagementsTable\",\n",
      "        \"EventSourceTable\"\n",
      "    ]\n",
      "}\n"
     ]
    }
   ],
   "source": [
    "$ENDPOINT='http://ddb-local:8000'\n",
    "aws dynamodb list-tables --no-cli-pager --endpoint-url $ENDPOINT"
   ]
  },
  {
   "cell_type": "code",
   "execution_count": 9,
   "metadata": {},
   "outputs": [
    {
     "output_type": "stream",
     "name": "stdout",
     "text": [
      "{\n",
      "    \"Table\": {\n",
      "        \"AttributeDefinitions\": [\n",
      "            {\n",
      "                \"AttributeName\": \"EventId\",\n",
      "                \"AttributeType\": \"S\"\n",
      "            },\n",
      "            {\n",
      "                \"AttributeName\": \"EventVersion\",\n",
      "                \"AttributeType\": \"S\"\n",
      "            }\n",
      "        ],\n",
      "        \"TableName\": \"EventSourceTable\",\n",
      "        \"KeySchema\": [\n",
      "            {\n",
      "                \"AttributeName\": \"EventId\",\n",
      "                \"KeyType\": \"HASH\"\n",
      "            },\n",
      "            {\n",
      "                \"AttributeName\": \"EventVersion\",\n",
      "                \"KeyType\": \"RANGE\"\n",
      "            }\n",
      "        ],\n",
      "        \"TableStatus\": \"ACTIVE\",\n",
      "        \"CreationDateTime\": \"2020-11-26T23:59:57.793000+00:00\",\n",
      "        \"ProvisionedThroughput\": {\n",
      "            \"LastIncreaseDateTime\": \"1970-01-01T00:00:00+00:00\",\n",
      "            \"LastDecreaseDateTime\": \"1970-01-01T00:00:00+00:00\",\n",
      "            \"NumberOfDecreasesToday\": 0,\n",
      "            \"ReadCapacityUnits\": 5,\n",
      "            \"WriteCapacityUnits\": 5\n",
      "        },\n",
      "        \"TableSizeBytes\": 1164,\n",
      "        \"ItemCount\": 3,\n",
      "        \"TableArn\": \"arn:aws:dynamodb:ddblocal:000000000000:table/EventSourceTable\"\n",
      "    }\n",
      "}\n"
     ]
    }
   ],
   "source": [
    "aws dynamodb describe-table --table-name EventSourceTable --endpoint-url $ENDPOINT"
   ]
  },
  {
   "cell_type": "code",
   "execution_count": 10,
   "metadata": {},
   "outputs": [
    {
     "output_type": "stream",
     "name": "stdout",
     "text": [
      "{\n",
      "    \"Items\": [\n",
      "        {\n",
      "            \"Type\": {\n",
      "                \"S\": \"BS.Domain.EngagementManagement+EngagementEvent+Created\"\n",
      "            },\n",
      "            \"Action\": {\n",
      "                \"S\": \"Created\"\n",
      "            },\n",
      "            \"UserName\": {\n",
      "                \"S\": \"sample_user\"\n",
      "            },\n",
      "            \"EventId\": {\n",
      "                \"S\": \"6a7087ae-6591-4b3a-b747-89e5ceaa0c93\"\n",
      "            },\n",
      "            \"Event\": {\n",
      "                \"M\": {\n",
      "                    \"ProjectName\": {\n",
      "                        \"S\": \"Migrate to the cloud\"\n",
      "                    },\n",
      "                    \"SfdcProjectSlug\": {\n",
      "                        \"S\": \"az0w1alphpmnavpw01\"\n",
      "                    },\n",
      "                    \"SecurityOwner\": {\n",
      "                        \"S\": \"Johnny Adams\"\n",
      "                    },\n",
      "                    \"SfdcProjectId\": {\n",
      "                        \"S\": \"PROJ-4324241\"\n",
      "                    },\n",
      "                    \"CTI\": {\n",
      "                        \"M\": {\n",
      "                            \"Item\": {\n",
      "                                \"S\": \"Flytrap\"\n",
      "                            },\n",
      "                            \"Type\": {\n",
      "                                \"S\": \"ProServe\"\n",
      "                            },\n",
      "                            \"Category\": {\n",
      "                                \"S\": \"AWS\"\n",
      "                            }\n",
      "                        }\n",
      "                    },\n",
      "                    \"Team\": {\n",
      "                        \"S\": \"myteama\"\n",
      "                    },\n",
      "                    \"CustomerName\": {\n",
      "                        \"S\": \"Big Do-good company\"\n",
      "                    }\n",
      "                }\n",
      "            },\n",
      "            \"EventVersion\": {\n",
      "                \"S\": \"1\"\n",
      "            },\n",
      "            \"TimeStamp\": {\n",
      "                \"S\": \"12/02/2020 23:57:06\"\n",
      "            }\n",
      "        },\n",
      "        {\n",
      "            \"Type\": {\n",
      "                \"S\": \"BS.Domain.EngagementManagement+EngagementEvent+Created\"\n",
      "            },\n",
      "            \"Action\": {\n",
      "                \"S\": \"Created\"\n",
      "            },\n",
      "            \"UserName\": {\n",
      "                \"S\": \"sample_user\"\n",
      "            },\n",
      "            \"EventId\": {\n",
      "                \"S\": \"8714c93d-fac4-4812-b2a9-8c996e0774b2\"\n",
      "            },\n",
      "            \"Event\": {\n",
      "                \"M\": {\n",
      "                    \"ProjectName\": {\n",
      "                        \"S\": \"Migrate to the cloud\"\n",
      "                    },\n",
      "                    \"SfdcProjectSlug\": {\n",
      "                        \"S\": \"az0w1alphpmnavpw01\"\n",
      "                    },\n",
      "                    \"SecurityOwner\": {\n",
      "                        \"S\": \"Johnny Adams\"\n",
      "                    },\n",
      "                    \"SfdcProjectId\": {\n",
      "                        \"S\": \"PROJ-4324241\"\n",
      "                    },\n",
      "                    \"CTI\": {\n",
      "                        \"M\": {\n",
      "                            \"Item\": {\n",
      "                                \"S\": \"Flytrap\"\n",
      "                            },\n",
      "                            \"Type\": {\n",
      "                                \"S\": \"ProServe\"\n",
      "                            },\n",
      "                            \"Category\": {\n",
      "                                \"S\": \"AWS\"\n",
      "                            }\n",
      "                        }\n",
      "                    },\n",
      "                    \"Team\": {\n",
      "                        \"S\": \"myteama\"\n",
      "                    },\n",
      "                    \"CustomerName\": {\n",
      "                        \"S\": \"Big Do-good company\"\n",
      "                    }\n",
      "                }\n",
      "            },\n",
      "            \"EventVersion\": {\n",
      "                \"S\": \"1\"\n",
      "            },\n",
      "            \"TimeStamp\": {\n",
      "                \"S\": \"11/27/2020 15:26:26\"\n",
      "            }\n",
      "        },\n",
      "        {\n",
      "            \"Type\": {\n",
      "                \"S\": \"BS.Domain.EngagementManagement+EngagementEvent+Created\"\n",
      "            },\n",
      "            \"Action\": {\n",
      "                \"S\": \"Created\"\n",
      "            },\n",
      "            \"UserName\": {\n",
      "                \"S\": \"sample_user\"\n",
      "            },\n",
      "            \"EventId\": {\n",
      "                \"S\": \"497a76d6-e32f-4892-945c-f05123e51e0e\"\n",
      "            },\n",
      "            \"Event\": {\n",
      "                \"M\": {\n",
      "                    \"ProjectName\": {\n",
      "                        \"S\": \"Migrate to the cloud\"\n",
      "                    },\n",
      "                    \"SfdcProjectSlug\": {\n",
      "                        \"S\": \"az0w1alphpmnavpw01\"\n",
      "                    },\n",
      "                    \"SecurityOwner\": {\n",
      "                        \"S\": \"Johnny Adams\"\n",
      "                    },\n",
      "                    \"SfdcProjectId\": {\n",
      "                        \"S\": \"PROJ-4324241\"\n",
      "                    },\n",
      "                    \"CTI\": {\n",
      "                        \"M\": {\n",
      "                            \"Item\": {\n",
      "                                \"S\": \"Flytrap\"\n",
      "                            },\n",
      "                            \"Type\": {\n",
      "                                \"S\": \"ProServe\"\n",
      "                            },\n",
      "                            \"Category\": {\n",
      "                                \"S\": \"AWS\"\n",
      "                            }\n",
      "                        }\n",
      "                    },\n",
      "                    \"Team\": {\n",
      "                        \"S\": \"myteama\"\n",
      "                    },\n",
      "                    \"CustomerName\": {\n",
      "                        \"S\": \"Big Do-good company\"\n",
      "                    }\n",
      "                }\n",
      "            },\n",
      "            \"EventVersion\": {\n",
      "                \"S\": \"1\"\n",
      "            },\n",
      "            \"TimeStamp\": {\n",
      "                \"S\": \"11/27/2020 00:02:56\"\n",
      "            }\n",
      "        }\n",
      "    ],\n",
      "    \"Count\": 3,\n",
      "    \"ScannedCount\": 3,\n",
      "    \"ConsumedCapacity\": null\n",
      "}\n"
     ]
    }
   ],
   "source": [
    "aws dynamodb scan --table-name EventSourceTable --endpoint-url $ENDPOINT"
   ]
  },
  {
   "cell_type": "code",
   "execution_count": 29,
   "metadata": {},
   "outputs": [
    {
     "output_type": "stream",
     "name": "stdout",
     "text": [
      "\n",
      "EventId                                   EventVersion\n",
      "-------                                   ------------\n",
      "@{S=8714c93d-fac4-4812-b2a9-8c996e0774b2} @{S=1}\n",
      "@{S=497a76d6-e32f-4892-945c-f05123e51e0e} @{S=1}\n",
      "\n"
     ]
    }
   ],
   "source": [
    "$records = aws dynamodb scan --table-name EventSourceTable --endpoint-url $ENDPOINT | ConvertFrom-Json\n",
    "$records.Items | Select -Property EventId, EventVersion"
   ]
  },
  {
   "cell_type": "code",
   "execution_count": 30,
   "metadata": {},
   "outputs": [
    {
     "output_type": "stream",
     "name": "stdout",
     "text": [
      "\n",
      "EventId                              EventVersion\n",
      "-------                              ------------\n",
      "8714c93d-fac4-4812-b2a9-8c996e0774b2 1\n",
      "497a76d6-e32f-4892-945c-f05123e51e0e 1\n",
      "\n"
     ]
    }
   ],
   "source": [
    "$records.Items | %{ [PSCustomObject] @{\n",
    "    EventId=$_.EventId.S; \n",
    "    EventVersion=$_.EventVersion.S \n",
    "}}"
   ]
  },
  {
   "cell_type": "code",
   "execution_count": 28,
   "metadata": {},
   "outputs": [],
   "source": [
    "echo aws dynamodb delete-item --table-name EventSourceTable --key @'\n",
    "{\n",
    "    \"\"EventId\"\":{\"\"S\"\":\"\"6a7087ae-6591-4b3a-b747-89e5ceaa0c93\"\"},\n",
    "    \"\"EventVersion\"\":{\"\"S\"\":\"\"1\"\"}\n",
    "}\n",
    "'@ --endpoint-url $ENDPOINT"
   ]
  },
  {
   "cell_type": "code",
   "execution_count": 20,
   "metadata": {},
   "outputs": [
    {
     "output_type": "stream",
     "name": "stdout",
     "text": [
      "{\n    \"\"EventId\"\":{\"\"S\"\":\"\"6a7087ae-6591-4b3a-b747-89e5ceaa0c93\"\"},\n    \"\"EventVersion\"\":{\"\"S\"\":\"\"1\"\"}\n}\n"
     ]
    }
   ],
   "source": [
    "echo @'\n",
    "{\n",
    "    \"\"EventId\"\":{\"\"S\"\":\"\"6a7087ae-6591-4b3a-b747-89e5ceaa0c93\"\"},\n",
    "    \"\"EventVersion\"\":{\"\"S\"\":\"\"1\"\"}\n",
    "}\n",
    "'@"
   ]
  }
 ],
 "metadata": {
  "kernelspec": {
   "display_name": ".NET (PowerShell)",
   "language": "PowerShell",
   "name": ".net-powershell"
  },
  "language_info": {
   "file_extension": ".ps1",
   "mimetype": "text/x-powershell",
   "name": "PowerShell",
   "pygments_lexer": "powershell",
   "version": "7.0"
  }
 },
 "nbformat": 4,
 "nbformat_minor": 4
}