{
 "cells": [
  {
   "cell_type": "markdown",
   "metadata": {},
   "source": [
    "# Run the car endpoint\n",
    "Create the payload"
   ]
  },
  {
   "cell_type": "code",
   "execution_count": 1,
   "metadata": {},
   "outputs": [
    {
     "output_type": "display_data",
     "data": {
      "text/html": "\r\n<div>\r\n    <div id='dotnet-interactive-this-cell-15867.8f2aec01361041fdb03d6b44f4b75c65' style='display: none'>\r\n        The below script needs to be able to find the current output cell; this is an easy method to get it.\r\n    </div>\r\n    <script type='text/javascript'>\r\n// ensure `require` is available globally\r\nif (typeof require !== typeof Function || typeof require.config !== typeof Function) {\r\n    let require_script = document.createElement('script');\r\n    require_script.setAttribute('src', 'https://cdnjs.cloudflare.com/ajax/libs/require.js/2.3.6/require.min.js');\r\n    require_script.setAttribute('type', 'text/javascript');\r\n    require_script.onload = function () {\r\n        loadDotnetInteractiveApi();\r\n    };\r\n\r\n    document.getElementsByTagName('head')[0].appendChild(require_script);\r\n}\r\nelse {\r\n    loadDotnetInteractiveApi();\r\n}\r\n\r\nasync function probeAddresses(probingAddresses) {\r\n    function timeout(ms, promise) {\r\n        return new Promise(function (resolve, reject) {\r\n            setTimeout(function () {\r\n                reject(new Error('timeout'))\r\n            }, ms)\r\n            promise.then(resolve, reject)\r\n        })\r\n    }\r\n\r\n    if (Array.isArray(probingAddresses)) {\r\n        for (let i = 0; i < probingAddresses.length; i++) {\r\n\r\n            let rootUrl = probingAddresses[i];\r\n\r\n            if (!rootUrl.endsWith('/')) {\r\n                rootUrl = `${rootUrl}/`;\r\n            }\r\n\r\n            try {\r\n                let response = await timeout(1000, fetch(`${rootUrl}discovery`, {\r\n                    method: 'POST',\r\n                    cache: 'no-cache',\r\n                    mode: 'cors',\r\n                    timeout: 1000,\r\n                    headers: {\r\n                        'Content-Type': 'text/plain'\r\n                    },\r\n                    body: probingAddresses[i]\r\n                }));\r\n\r\n                if (response.status == 200) {\r\n                    return rootUrl;\r\n                }\r\n            }\r\n            catch (e) { }\r\n        }\r\n    }\r\n}\r\n\r\nfunction loadDotnetInteractiveApi() {\r\n    probeAddresses([\"http://172.18.0.5:1027/\", \"http://127.0.0.1:1027/\"])\r\n        .then((root) => {\r\n            // use probing to find host url and api resources\r\n            // load interactive helpers and language services\r\n            let dotnet_require = require.config({\r\n                context: '15867.8f2aec01361041fdb03d6b44f4b75c65',\r\n                paths: {\r\n                    'dotnet-interactive': `${root}resources`\r\n                }\r\n            }) || require;\r\n            if (!window.dotnet_require) {\r\n                window.dotnet_require = dotnet_require;\r\n            }\r\n        \r\n            dotnet_require([\r\n                    'dotnet-interactive/dotnet-interactive'\r\n                ],\r\n                function (dotnet) {\r\n                    dotnet.init(window);\r\n                },\r\n                function (error) {\r\n                    console.log(error);\r\n                }\r\n            );\r\n        })\r\n        .catch(error => {console.log(error);});\r\n    }\r\n    </script>\r\n</div>"
     },
     "metadata": {}
    },
    {
     "output_type": "stream",
     "name": "stdout",
     "text": [
      "{\n  \"Cti\": {\n    \"Category\": \"AWS\",\n    \"Type\": \"ProServe\",\n    \"Item\": \"Flytrap\"\n  },\n  \"CustomerName\": \"Big Do-good company\",\n  \"Team\": \"myteama\",\n  \"SecurityOwner\": \"Johnny Adams\",\n  \"ProjectName\": \"Migrate to the cloud\",\n  \"SfdcProjectSlug\": \"az0w1alphpmnavpw01\",\n  \"SfdcProjectId\": \"PROJ-4324241\"\n}\n"
     ]
    }
   ],
   "source": [
    "$dto = @{ \n",
    "    CustomerName=\"Big Do-good company\";\n",
    "    ProjectName=\"Migrate to the cloud\";\n",
    "    SfdcProjectId=\"PROJ-4324241\";\n",
    "    SfdcProjectSlug=\"az0w1alphpmnavpw01\";\n",
    "    SecurityOwner=\"Johnny Adams\";\n",
    "    Team=\"myteama\";\n",
    "    Cti=@{\n",
    "        Category=\"AWS\";\n",
    "        Type=\"ProServe\";\n",
    "        Item=\"Flytrap\"\n",
    "    }\n",
    "} | ConvertTo-Json; $dto"
   ]
  },
  {
   "cell_type": "code",
   "execution_count": 4,
   "metadata": {},
   "outputs": [
    {
     "output_type": "stream",
     "name": "stdout",
     "text": [
      "\n",
      "customerName    : Big Do-good company\n",
      "projectName     : Migrate to the cloud\n",
      "sfdcProjectId   : PROJ-4324241\n",
      "sfdcProjectSlug : az0w1alphpmnavpw01\n",
      "securityOwner   : Johnny Adams\n",
      "team            : myteama\n",
      "cti             : @{category=AWS; type=ProServe; item=Flytrap}\n",
      "\n",
      "\n"
     ]
    }
   ],
   "source": [
    "Invoke-RestMethod -Uri 'http://bs-service:5000/engagements' -Method Post -Body $dto"
   ]
  },
  {
   "cell_type": "code",
   "execution_count": 15,
   "metadata": {},
   "outputs": [
    {
     "name": "stdout",
     "output_type": "stream",
     "text": [
      "{\n",
      "    \"TableNames\": [\n",
      "        \"EngagementEventsTable\",\n",
      "        \"MysfitsTable\"\n",
      "    ]\n",
      "}\n"
     ]
    }
   ],
   "source": [
    "$ENDPOINT='http://ddb-local:8000'\n",
    "aws dynamodb list-tables --no-cli-pager --endpoint-url $ENDPOINT"
   ]
  },
  {
   "cell_type": "code",
   "execution_count": 16,
   "metadata": {},
   "outputs": [
    {
     "name": "stdout",
     "output_type": "stream",
     "text": [
      "{\n",
      "    \"Table\": {\n",
      "        \"AttributeDefinitions\": [\n",
      "            {\n",
      "                \"AttributeName\": \"MysfitId\",\n",
      "                \"AttributeType\": \"S\"\n",
      "            },\n",
      "            {\n",
      "                \"AttributeName\": \"GoodEvil\",\n",
      "                \"AttributeType\": \"S\"\n",
      "            },\n",
      "            {\n",
      "                \"AttributeName\": \"LawChaos\",\n",
      "                \"AttributeType\": \"S\"\n",
      "            }\n",
      "        ],\n",
      "        \"TableName\": \"MysfitsTable\",\n",
      "        \"KeySchema\": [\n",
      "            {\n",
      "                \"AttributeName\": \"MysfitId\",\n",
      "                \"KeyType\": \"HASH\"\n",
      "            }\n",
      "        ],\n",
      "        \"TableStatus\": \"ACTIVE\",\n",
      "        \"CreationDateTime\": \"2020-11-14T23:16:43.258000+00:00\",\n",
      "        \"ProvisionedThroughput\": {\n",
      "            \"LastIncreaseDateTime\": \"1970-01-01T00:00:00+00:00\",\n",
      "            \"LastDecreaseDateTime\": \"1970-01-01T00:00:00+00:00\",\n",
      "            \"NumberOfDecreasesToday\": 0,\n",
      "            \"ReadCapacityUnits\": 5,\n",
      "            \"WriteCapacityUnits\": 5\n",
      "        },\n",
      "        \"TableSizeBytes\": 9068,\n",
      "        \"ItemCount\": 12,\n",
      "        \"TableArn\": \"arn:aws:dynamodb:ddblocal:000000000000:table/MysfitsTable\",\n",
      "        \"GlobalSecondaryIndexes\": [\n",
      "            {\n",
      "                \"IndexName\": \"LawChaosIndex\",\n",
      "                \"KeySchema\": [\n",
      "                    {\n",
      "                        \"AttributeName\": \"LawChaos\",\n",
      "                        \"KeyType\": \"HASH\"\n",
      "                    },\n",
      "                    {\n",
      "                        \"AttributeName\": \"MysfitId\",\n",
      "                        \"KeyType\": \"RANGE\"\n",
      "                    }\n",
      "                ],\n",
      "                \"Projection\": {\n",
      "                    \"ProjectionType\": \"ALL\"\n",
      "                },\n",
      "                \"IndexStatus\": \"ACTIVE\",\n",
      "                \"ProvisionedThroughput\": {\n",
      "                    \"ReadCapacityUnits\": 5,\n",
      "                    \"WriteCapacityUnits\": 5\n",
      "                },\n",
      "                \"IndexSizeBytes\": 9068,\n",
      "                \"ItemCount\": 12,\n",
      "                \"IndexArn\": \"arn:aws:dynamodb:ddblocal:000000000000:table/MysfitsTable/index/LawChaosIndex\"\n",
      "            },\n",
      "            {\n",
      "                \"IndexName\": \"GoodEvilIndex\",\n",
      "                \"KeySchema\": [\n",
      "                    {\n",
      "                        \"AttributeName\": \"GoodEvil\",\n",
      "                        \"KeyType\": \"HASH\"\n",
      "                    },\n",
      "                    {\n",
      "                        \"AttributeName\": \"MysfitId\",\n",
      "                        \"KeyType\": \"RANGE\"\n",
      "                    }\n",
      "                ],\n",
      "                \"Projection\": {\n",
      "                    \"ProjectionType\": \"ALL\"\n",
      "                },\n",
      "                \"IndexStatus\": \"ACTIVE\",\n",
      "                \"ProvisionedThroughput\": {\n",
      "                    \"ReadCapacityUnits\": 5,\n",
      "                    \"WriteCapacityUnits\": 5\n",
      "                },\n",
      "                \"IndexSizeBytes\": 9068,\n",
      "                \"ItemCount\": 12,\n",
      "                \"IndexArn\": \"arn:aws:dynamodb:ddblocal:000000000000:table/MysfitsTable/index/GoodEvilIndex\"\n",
      "            }\n",
      "        ]\n",
      "    }\n",
      "}\n"
     ]
    }
   ],
   "source": [
    "aws dynamodb describe-table --table-name MysfitsTable --endpoint-url $ENDPOINT"
   ]
  }
 ],
 "metadata": {
  "kernelspec": {
   "display_name": ".NET (PowerShell)",
   "language": "PowerShell",
   "name": ".net-powershell"
  },
  "language_info": {
   "file_extension": ".ps1",
   "mimetype": "text/x-powershell",
   "name": "PowerShell",
   "pygments_lexer": "powershell",
   "version": "7.0"
  }
 },
 "nbformat": 4,
 "nbformat_minor": 4
}