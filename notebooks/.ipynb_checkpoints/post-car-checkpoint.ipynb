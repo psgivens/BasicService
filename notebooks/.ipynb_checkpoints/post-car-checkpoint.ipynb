{
 "cells": [
  {
   "cell_type": "code",
   "execution_count": 4,
   "metadata": {},
   "outputs": [
    {
     "name": "stdout",
     "output_type": "stream",
     "text": [
      "{\n",
      "  \"Wheels\": 7,\n",
      "  \"Name\": \"Roger\",\n",
      "  \"Make\": \"Honda\"\n",
      "}\n"
     ]
    }
   ],
   "source": [
    "$car = @{ Name=\"Roger\"; Make=\"Honda\"; Wheels=7 } | ConvertTo-Json\n",
    "$car"
   ]
  },
  {
   "cell_type": "code",
   "execution_count": 9,
   "metadata": {},
   "outputs": [
    {
     "name": "stdout",
     "output_type": "stream",
     "text": [
      "\u001b[91mInvoke-RestMethod: \u001b[91mCannot assign requested address\u001b[0m\n"
     ]
    }
   ],
   "source": [
    "Invoke-RestMethod -Uri 'http://bs-service:5000/car' -Method Post -Body $car "
   ]
  },
  {
   "cell_type": "code",
   "execution_count": null,
   "metadata": {},
   "outputs": [],
   "source": []
  }
 ],
 "metadata": {
  "kernelspec": {
   "display_name": ".NET (PowerShell)",
   "language": "PowerShell",
   "name": ".net-powershell"
  },
  "language_info": {
   "file_extension": ".ps1",
   "mimetype": "text/x-powershell",
   "name": "PowerShell",
   "pygments_lexer": "powershell",
   "version": "7.0"
  }
 },
 "nbformat": 4,
 "nbformat_minor": 4
}
