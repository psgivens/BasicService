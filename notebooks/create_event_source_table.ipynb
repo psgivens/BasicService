{
 "cells": [
  {
   "cell_type": "markdown",
   "metadata": {},
   "source": [
    "# Create the Event Source Table\n"
   ]
  },
  {
   "cell_type": "code",
   "execution_count": 6,
   "metadata": {},
   "outputs": [
    {
     "name": "stdout",
     "output_type": "stream",
     "text": [
      "{\n",
      "    \"TableNames\": [\n",
      "        \"EngagementEventsTable\",\n",
      "        \"EventSourceTable\"\n",
      "    ]\n",
      "}\n"
     ]
    }
   ],
   "source": [
    "$ENDPOINT='http://ddb-local:8000'\n",
    "aws dynamodb list-tables --no-cli-pager --endpoint-url $ENDPOINT"
   ]
  },
  {
   "cell_type": "code",
   "execution_count": 4,
   "metadata": {},
   "outputs": [
    {
     "name": "stdout",
     "output_type": "stream",
     "text": [
      "{\n",
      "    \"TableDescription\": {\n",
      "        \"AttributeDefinitions\": [\n",
      "            {\n",
      "                \"AttributeName\": \"EventId\",\n",
      "                \"AttributeType\": \"S\"\n",
      "            },\n",
      "            {\n",
      "                \"AttributeName\": \"EventVersion\",\n",
      "                \"AttributeType\": \"S\"\n",
      "            }\n",
      "        ],\n",
      "        \"TableName\": \"EventSourceTable\",\n",
      "        \"KeySchema\": [\n",
      "            {\n",
      "                \"AttributeName\": \"EventId\",\n",
      "                \"KeyType\": \"HASH\"\n",
      "            },\n",
      "            {\n",
      "                \"AttributeName\": \"EventVersion\",\n",
      "                \"KeyType\": \"RANGE\"\n",
      "            }\n",
      "        ],\n",
      "        \"TableStatus\": \"ACTIVE\",\n",
      "        \"CreationDateTime\": \"2020-11-22T07:07:14.671000+00:00\",\n",
      "        \"ProvisionedThroughput\": {\n",
      "            \"LastIncreaseDateTime\": \"1970-01-01T00:00:00+00:00\",\n",
      "            \"LastDecreaseDateTime\": \"1970-01-01T00:00:00+00:00\",\n",
      "            \"NumberOfDecreasesToday\": 0,\n",
      "            \"ReadCapacityUnits\": 5,\n",
      "            \"WriteCapacityUnits\": 5\n",
      "        },\n",
      "        \"TableSizeBytes\": 0,\n",
      "        \"ItemCount\": 0,\n",
      "        \"TableArn\": \"arn:aws:dynamodb:ddblocal:000000000000:table/EventSourceTable\"\n",
      "    }\n",
      "}\n"
     ]
    }
   ],
   "source": [
    "aws dynamodb create-table `\n",
    "  --cli-input-json file://config/dynamodb-table-event-source.json `\n",
    "  --endpoint-url $ENDPOINT"
   ]
  },
  {
   "cell_type": "code",
   "execution_count": 5,
   "metadata": {},
   "outputs": [
    {
     "name": "stdout",
     "output_type": "stream",
     "text": [
      "{\n",
      "    \"TableNames\": [\n",
      "        \"EngagementEventsTable\",\n",
      "        \"EventSourceTable\"\n",
      "    ]\n",
      "}\n"
     ]
    }
   ],
   "source": [
    "aws dynamodb list-tables --no-cli-pager --endpoint-url $ENDPOINT"
   ]
  }
 ],
 "metadata": {
  "kernelspec": {
   "display_name": ".NET (PowerShell)",
   "language": "PowerShell",
   "name": ".net-powershell"
  },
  "language_info": {
   "file_extension": ".ps1",
   "mimetype": "text/x-powershell",
   "name": "PowerShell",
   "pygments_lexer": "powershell",
   "version": "7.0"
  }
 },
 "nbformat": 4,
 "nbformat_minor": 4
}
