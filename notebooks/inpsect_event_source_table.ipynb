{
 "cells": [
  {
   "cell_type": "code",
   "execution_count": 7,
   "metadata": {},
   "outputs": [
    {
     "output_type": "stream",
     "name": "stdout",
     "text": [
      "{\n",
      "    \"TableNames\": [\n",
      "        \"EventSourceTable\"\n",
      "    ]\n",
      "}\n"
     ]
    }
   ],
   "source": [
    "$ENDPOINT='http://ddb-local:8000'\n",
    "aws dynamodb list-tables --no-cli-pager --endpoint-url $ENDPOINT"
   ]
  },
  {
   "cell_type": "code",
   "execution_count": 8,
   "metadata": {},
   "outputs": [
    {
     "output_type": "stream",
     "name": "stdout",
     "text": [
      "{\n",
      "    \"Table\": {\n",
      "        \"AttributeDefinitions\": [\n",
      "            {\n",
      "                \"AttributeName\": \"EventId\",\n",
      "                \"AttributeType\": \"S\"\n",
      "            },\n",
      "            {\n",
      "                \"AttributeName\": \"EventVersion\",\n",
      "                \"AttributeType\": \"S\"\n",
      "            }\n",
      "        ],\n",
      "        \"TableName\": \"EventSourceTable\",\n",
      "        \"KeySchema\": [\n",
      "            {\n",
      "                \"AttributeName\": \"EventId\",\n",
      "                \"KeyType\": \"HASH\"\n",
      "            },\n",
      "            {\n",
      "                \"AttributeName\": \"EventVersion\",\n",
      "                \"KeyType\": \"RANGE\"\n",
      "            }\n",
      "        ],\n",
      "        \"TableStatus\": \"ACTIVE\",\n",
      "        \"CreationDateTime\": \"2020-11-26T23:59:57.793000+00:00\",\n",
      "        \"ProvisionedThroughput\": {\n",
      "            \"LastIncreaseDateTime\": \"1970-01-01T00:00:00+00:00\",\n",
      "            \"LastDecreaseDateTime\": \"1970-01-01T00:00:00+00:00\",\n",
      "            \"NumberOfDecreasesToday\": 0,\n",
      "            \"ReadCapacityUnits\": 5,\n",
      "            \"WriteCapacityUnits\": 5\n",
      "        },\n",
      "        \"TableSizeBytes\": 388,\n",
      "        \"ItemCount\": 1,\n",
      "        \"TableArn\": \"arn:aws:dynamodb:ddblocal:000000000000:table/EventSourceTable\"\n",
      "    }\n",
      "}\n"
     ]
    }
   ],
   "source": [
    "aws dynamodb describe-table --table-name EventSourceTable --endpoint-url $ENDPOINT"
   ]
  },
  {
   "cell_type": "code",
   "execution_count": 9,
   "metadata": {},
   "outputs": [
    {
     "output_type": "stream",
     "name": "stdout",
     "text": [
      "{\n",
      "    \"Items\": [\n",
      "        {\n",
      "            \"Type\": {\n",
      "                \"S\": \"BS.Domain.EngagementManagement+EngagementEvent+Created\"\n",
      "            },\n",
      "            \"Action\": {\n",
      "                \"S\": \"Created\"\n",
      "            },\n",
      "            \"UserName\": {\n",
      "                \"S\": \"sample_user\"\n",
      "            },\n",
      "            \"EventId\": {\n",
      "                \"S\": \"497a76d6-e32f-4892-945c-f05123e51e0e\"\n",
      "            },\n",
      "            \"Event\": {\n",
      "                \"M\": {\n",
      "                    \"ProjectName\": {\n",
      "                        \"S\": \"Migrate to the cloud\"\n",
      "                    },\n",
      "                    \"SfdcProjectSlug\": {\n",
      "                        \"S\": \"az0w1alphpmnavpw01\"\n",
      "                    },\n",
      "                    \"SecurityOwner\": {\n",
      "                        \"S\": \"Johnny Adams\"\n",
      "                    },\n",
      "                    \"SfdcProjectId\": {\n",
      "                        \"S\": \"PROJ-4324241\"\n",
      "                    },\n",
      "                    \"CTI\": {\n",
      "                        \"M\": {\n",
      "                            \"Item\": {\n",
      "                                \"S\": \"Flytrap\"\n",
      "                            },\n",
      "                            \"Type\": {\n",
      "                                \"S\": \"ProServe\"\n",
      "                            },\n",
      "                            \"Category\": {\n",
      "                                \"S\": \"AWS\"\n",
      "                            }\n",
      "                        }\n",
      "                    },\n",
      "                    \"Team\": {\n",
      "                        \"S\": \"myteama\"\n",
      "                    },\n",
      "                    \"CustomerName\": {\n",
      "                        \"S\": \"Big Do-good company\"\n",
      "                    }\n",
      "                }\n",
      "            },\n",
      "            \"EventVersion\": {\n",
      "                \"S\": \"1\"\n",
      "            },\n",
      "            \"TimeStamp\": {\n",
      "                \"S\": \"11/27/2020 00:02:56\"\n",
      "            }\n",
      "        }\n",
      "    ],\n",
      "    \"Count\": 1,\n",
      "    \"ScannedCount\": 1,\n",
      "    \"ConsumedCapacity\": null\n",
      "}\n"
     ]
    }
   ],
   "source": [
    "aws dynamodb scan --table-name EventSourceTable --endpoint-url $ENDPOINT"
   ]
  },
  {
   "cell_type": "code",
   "execution_count": 13,
   "metadata": {},
   "outputs": [],
   "source": [
    "$records = aws dynamodb scan --table-name EventSourceTable --endpoint-url $ENDPOINT | ConvertFrom-Json"
   ]
  },
  {
   "cell_type": "code",
   "execution_count": 14,
   "metadata": {},
   "outputs": [
    {
     "output_type": "stream",
     "name": "stdout",
     "text": [
      "\n",
      "EngagementEventId EngagementVersion\n",
      "----------------- -----------------\n",
      "                  \n",
      "\n"
     ]
    }
   ],
   "source": [
    "$records.Items | Select -Property EventId, EventVersion"
   ]
  },
  {
   "cell_type": "code",
   "execution_count": 12,
   "metadata": {},
   "outputs": [
    {
     "output_type": "stream",
     "name": "stdout",
     "text": [
      "\n",
      "EngagementEventId EngagementVersion\n",
      "----------------- -----------------\n",
      "                  \n",
      "\n"
     ]
    }
   ],
   "source": [
    "$records.Items | %{ [PSCustomObject] @{\n",
    "    EventId=$_.EventId.S; \n",
    "    EventVersion=$_.EventVersion.S \n",
    "}}"
   ]
  }
 ],
 "metadata": {
  "kernelspec": {
   "display_name": ".NET (PowerShell)",
   "language": "PowerShell",
   "name": ".net-powershell"
  },
  "language_info": {
   "file_extension": ".ps1",
   "mimetype": "text/x-powershell",
   "name": "PowerShell",
   "pygments_lexer": "powershell",
   "version": "7.0"
  }
 },
 "nbformat": 4,
 "nbformat_minor": 4
}