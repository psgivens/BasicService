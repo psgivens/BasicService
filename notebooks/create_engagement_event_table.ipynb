{
 "cells": [
  {
   "cell_type": "markdown",
   "metadata": {},
   "source": [
    "# Create Engagements Table\n",
    "This notebook creates the EngagementsTable and populates it. "
   ]
  },
  {
   "cell_type": "code",
   "execution_count": 3,
   "metadata": {},
   "outputs": [
    {
     "output_type": "stream",
     "name": "stdout",
     "text": [
      "{\n",
      "    \"TableNames\": [\n",
      "        \"EventSourceTable\"\n",
      "    ]\n",
      "}\n"
     ]
    }
   ],
   "source": [
    "$ENDPOINT='http://ddb-local:8000'\n",
    "aws dynamodb list-tables --no-cli-pager --endpoint-url $ENDPOINT"
   ]
  },
  {
   "cell_type": "code",
   "execution_count": 9,
   "metadata": {},
   "outputs": [
    {
     "output_type": "stream",
     "name": "stdout",
     "text": [
      "\n",
      "usage: aws [options] <command> <subcommand> [<subcommand> ...] [parameters]\n",
      "To see help text, you can run:\n",
      "\n",
      "  aws help\n",
      "  aws <command> help\n",
      "  aws <command> <subcommand> help\n",
      "\n",
      "aws: error: the following arguments are required: --attribute-definitions, --table-name, --key-schema\n",
      "\n"
     ]
    }
   ],
   "source": [
    "aws dynamodb create-table `\n",
    "  -cli-input-json file://config/dynamodb-table-engagements.json `\n",
    "  --endpoint-url $ENDPOINT"
   ]
  },
  {
   "cell_type": "code",
   "execution_count": 7,
   "metadata": {},
   "outputs": [
    {
     "output_type": "stream",
     "name": "stdout",
     "text": [
      "\n",
      "An error occurred (ResourceNotFoundException) when calling the BatchWriteItem operation: Cannot do operations on a non-existent table\n"
     ]
    }
   ],
   "source": [
    "aws dynamodb batch-write-item `\n",
    "  --request-items file://config/populate-dynamodb-engagement-events.json `\n",
    "  --endpoint-url $ENDPOINT"
   ]
  },
  {
   "cell_type": "code",
   "execution_count": 8,
   "metadata": {},
   "outputs": [
    {
     "output_type": "stream",
     "name": "stdout",
     "text": [
      "\n",
      "An error occurred (ResourceNotFoundException) when calling the Scan operation: Cannot do operations on a non-existent table\n"
     ]
    }
   ],
   "source": [
    "aws dynamodb scan --table-name EngagementEventsTable --endpoint-url $ENDPOINT"
   ]
  }
 ],
 "metadata": {
  "kernelspec": {
   "display_name": ".NET (PowerShell)",
   "language": "PowerShell",
   "name": ".net-powershell"
  },
  "language_info": {
   "file_extension": ".ps1",
   "mimetype": "text/x-powershell",
   "name": "PowerShell",
   "pygments_lexer": "powershell",
   "version": "7.0"
  }
 },
 "nbformat": 4,
 "nbformat_minor": 4
}